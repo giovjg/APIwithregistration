{
 "cells": [
  {
   "cell_type": "markdown",
   "metadata": {},
   "source": [
    "## Python and API with registration"
   ]
  },
  {
   "cell_type": "code",
   "execution_count": 1,
   "metadata": {},
   "outputs": [],
   "source": [
    "# import libraries for initial set up\n",
    "import requests\n",
    "import json\n",
    "import pandas as pd"
   ]
  },
  {
   "cell_type": "code",
   "execution_count": null,
   "metadata": {},
   "outputs": [],
   "source": [
    "# OS module in Python provides functions for creating and removing a directory (folder),fetching its contents,changing and identifying the current directory\"\n",
    "import os\n",
    "import shutil\n",
    "# function to avoid uploading checkpoint files to github\n",
    "def rm_ipynb_recursively(path):\n",
    "    try:\n",
    "        li = os.listdir(path) # Return a list of the entries in the directory given by path.\n",
    "\n",
    "    except:\n",
    "        return 0\n",
    "    \n",
    "    cnt_removed = 0\n",
    "    for child in li:\n",
    "        childpath = os.path.join(path, child)\n",
    "        if child == '.ipynb_checkpoints':\n",
    "            shutil.rmtree(childpath)\n",
    "            cnt_removed += 1\n",
    "            print('removed', childpath)\n",
    "        else:\n",
    "            cnt_removed += rm_ipynb_recursively(childpath)\n",
    "            \n",
    "    return cnt_removed"
   ]
  },
  {
   "cell_type": "code",
   "execution_count": 2,
   "metadata": {},
   "outputs": [],
   "source": [
    "# to get access to the API you need your credentials\n",
    "APP_ID = \"7c30947d\"\n",
    "APP_KEY = \"b4e80c00f3134c320123ded1b36d13fb\""
   ]
  },
  {
   "cell_type": "code",
   "execution_count": null,
   "metadata": {},
   "outputs": [],
   "source": [
    "# Setting up the request URL\n",
    "api_endpoint = \"https://api.edamam.com/api/nutrition-details\""
   ]
  },
  {
   "cell_type": "code",
   "execution_count": null,
   "metadata": {},
   "outputs": [],
   "source": [
    "url = api_endpoint + \"?app_id=\" + APP_ID + \"&app_key=\" + APP_KEY"
   ]
  },
  {
   "cell_type": "code",
   "execution_count": null,
   "metadata": {},
   "outputs": [],
   "source": [
    "# post request and its parameters (see documentation of the API website)\n",
    "# must contain a content type header, title and ingr are mandatory"
   ]
  },
  {
   "cell_type": "code",
   "execution_count": null,
   "metadata": {},
   "outputs": [],
   "source": [
    "headers ={\n",
    "    'Content-type'\n",
    "}"
   ]
  },
  {
   "cell_type": "code",
   "execution_count": null,
   "metadata": {},
   "outputs": [],
   "source": [
    "recipe = {\n",
    "    'title': ''\n",
    "}"
   ]
  },
  {
   "cell_type": "code",
   "execution_count": null,
   "metadata": {},
   "outputs": [],
   "source": [
    "print(os.listdir('./'))"
   ]
  },
  {
   "cell_type": "code",
   "execution_count": null,
   "metadata": {},
   "outputs": [],
   "source": [
    "rm_ipynb_recursively('./')"
   ]
  },
  {
   "cell_type": "code",
   "execution_count": null,
   "metadata": {},
   "outputs": [],
   "source": []
  }
 ],
 "metadata": {
  "kernelspec": {
   "display_name": "Python 3",
   "language": "python",
   "name": "python3"
  },
  "language_info": {
   "codemirror_mode": {
    "name": "ipython",
    "version": 3
   },
   "file_extension": ".py",
   "mimetype": "text/x-python",
   "name": "python",
   "nbconvert_exporter": "python",
   "pygments_lexer": "ipython3",
   "version": "3.8.3"
  },
  "toc": {
   "base_numbering": 1,
   "nav_menu": {},
   "number_sections": true,
   "sideBar": true,
   "skip_h1_title": false,
   "title_cell": "Table of Contents",
   "title_sidebar": "Contents",
   "toc_cell": false,
   "toc_position": {},
   "toc_section_display": true,
   "toc_window_display": false
  }
 },
 "nbformat": 4,
 "nbformat_minor": 4
}
